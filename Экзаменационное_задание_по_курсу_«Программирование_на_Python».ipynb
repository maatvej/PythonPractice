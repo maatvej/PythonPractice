{
  "nbformat": 4,
  "nbformat_minor": 0,
  "metadata": {
    "colab": {
      "provenance": []
    },
    "kernelspec": {
      "name": "python3",
      "display_name": "Python 3"
    },
    "language_info": {
      "name": "python"
    }
  },
  "cells": [
    {
      "cell_type": "code",
      "source": [
        "import random\n",
        "import string\n",
        "from dataclasses import dataclass\n",
        "from time import time\n",
        "from typing import List\n",
        "from enum import Enum\n",
        "import textwrap"
      ],
      "metadata": {
        "id": "JPCUJyPvMur-"
      },
      "execution_count": null,
      "outputs": []
    },
    {
      "cell_type": "markdown",
      "source": [
        "Задание 1 (4 балла)\n",
        "Обратный порядок слов в блоках текста\n",
        "\n",
        "Дан текстовый файл, каждое предложение которого занимает одну строку. Напишите программу, которая разделяет текст на блоки — каждый блок состоит из нескольких предложений. Затем переворачивает порядок слов только внутри каждого предложения, не меняя порядок самих предложений в блоке.\n",
        "\n",
        "Файл содержит:\n",
        "\n",
        "    Привет как дела\n",
        "    На улице идет дождь\n",
        "    Я люблю программирование\n",
        "\n",
        "Критерии оценки:\n",
        "\n",
        "    Текст разделен на блоки корректно — 2 балла.\n",
        "    Корректно перевернуты блоки — 2 балла.\n"
      ],
      "metadata": {
        "id": "AqTSp2wgL9On"
      }
    },
    {
      "cell_type": "code",
      "source": [
        "with open('input.txt', 'w', encoding='utf-8') as f:\n",
        "    f.write('Привет как дела\\nНа улице идет дождь\\nЯ люблю программирование')\n"
      ],
      "metadata": {
        "id": "odpLJFgXNHwu"
      },
      "execution_count": null,
      "outputs": []
    },
    {
      "cell_type": "code",
      "execution_count": null,
      "metadata": {
        "colab": {
          "base_uri": "https://localhost:8080/"
        },
        "id": "7f7KvSzaLm14",
        "outputId": "1f245c80-d850-4443-ca64-40d553bb4e87"
      },
      "outputs": [
        {
          "output_type": "stream",
          "name": "stdout",
          "text": [
            "дела как Привет\n",
            "дождь идет улице На\n",
            "программирование люблю Я\n"
          ]
        }
      ],
      "source": [
        "# Читаем файл и переворачиваем слова в каждой строке\n",
        "with open('input.txt', 'r', encoding='utf-8') as input_file:\n",
        "    with open('output.txt', 'w', encoding='utf-8') as output_file:\n",
        "        for line in input_file:\n",
        "            # Переворачиваем слова и записываем в выходной файл\n",
        "            reversed_line = ' '.join(line.strip().split()[::-1])\n",
        "            print(reversed_line)\n"
      ]
    },
    {
      "cell_type": "markdown",
      "source": [
        "Задание 2 (2 балла)\n",
        "\n",
        "Напишите функцию, которая принимает строку и сжимает её определённым образом. Строки содержат произвольные символы, включая пробелы и спецсимволы, и требуют точного учета длины при кодировании. Сжатие строки происходит сериями одинаковых символов в формате символколичество, но только если длина сжатой строки не превышает исходную.\n",
        "\n",
        "Примеры:\n",
        "\n",
        "    вход: aaabbc → вывод: a3b2c,\n",
        "    вход: abcd → вывод: abcd (так как сжатая равна).\n",
        "\n",
        "Критерии оценки:\n",
        "\n",
        "    Корректно очищен текст — 1 балл.\n",
        "    Выполняется условие — 1 балл.\n"
      ],
      "metadata": {
        "id": "g_OCNnG4OkOe"
      }
    },
    {
      "cell_type": "code",
      "source": [
        "string = 'aaabbc'"
      ],
      "metadata": {
        "id": "ZwCJkep_Ms6t"
      },
      "execution_count": null,
      "outputs": []
    },
    {
      "cell_type": "code",
      "source": [
        "result = []\n",
        "count = 1\n",
        "current_char = string[0]\n",
        "\n",
        "for i in range(1, len(string)):\n",
        "    if string[i] == current_char:\n",
        "        count += 1\n",
        "    else:\n",
        "        result.append(current_char + (str(count) if count > 1 else ''))\n",
        "        current_char = string[i]\n",
        "        count = 1\n",
        "\n",
        "result.append(current_char + (str(count) if count > 1 else ''))\n",
        "compressed = ''.join(result)\n",
        "\n",
        "# Выводим результат\n",
        "print(string if len(compressed) >= len(string) else compressed)"
      ],
      "metadata": {
        "colab": {
          "base_uri": "https://localhost:8080/"
        },
        "id": "OK3xliWbPs-e",
        "outputId": "51b37aad-e344-40b0-8401-45e60963c8b0"
      },
      "execution_count": null,
      "outputs": [
        {
          "output_type": "stream",
          "name": "stdout",
          "text": [
            "a3b2c\n"
          ]
        }
      ]
    },
    {
      "cell_type": "markdown",
      "source": [
        "Задание 3 (4 балла)\n",
        "Хаотичные скобки\n",
        "\n",
        "Реализуйте функцию, которая проверяет, правильно ли расставлены скобки в строке (включая круглые, квадратные и фигурные скобки).\n",
        "\n",
        "Критерии оценки:\n",
        "\n",
        "    Функция выполняет условие — 4 балла.\n"
      ],
      "metadata": {
        "id": "5HYXY1l9L77x"
      }
    },
    {
      "cell_type": "code",
      "source": [
        "\n",
        "# Текст с ошибками в скобках\n",
        "invalid_text = \"\"\"\n",
        "def broken_code() {\n",
        "    array = [1, 2, (3 + 4], 5);\n",
        "    nested = {x: [y for y in range(2)} for x in (1, 2, 3)]\n",
        "    print(\"Result: [(a + b) * {c - d}\")\n",
        "}\n",
        "\n",
        "# Неверный SQL запрос\n",
        "SELECT * FROM users WHERE id IN ((SELECT id FROM nested_table)\n",
        "\"\"\"\n"
      ],
      "metadata": {
        "id": "_BhimhI2RBGw"
      },
      "execution_count": null,
      "outputs": []
    },
    {
      "cell_type": "code",
      "source": [
        "def fix_brackets(text: str) -> str:\n",
        "    stack = []\n",
        "    result = []\n",
        "    brackets = {')': '(', '}': '{', ']': '['}\n",
        "    opening = '({['\n",
        "    closing = ')}]'\n",
        "\n",
        "    try:\n",
        "        for char in text:\n",
        "            if char in opening:\n",
        "                stack.append(char)\n",
        "                result.append(char)\n",
        "            elif char in closing:\n",
        "                if not stack or stack[-1] != brackets[char]:\n",
        "                    if not stack:\n",
        "                        result.append(brackets[char])\n",
        "                    else:\n",
        "                        char = next(c for c in closing if brackets[c] == stack[-1])\n",
        "                    stack.pop() if stack else None\n",
        "                result.append(char)\n",
        "            else:\n",
        "                result.append(char)\n",
        "\n",
        "        while stack:\n",
        "            last = stack.pop()\n",
        "            result.append(next(c for c in closing if brackets[c] == last))\n",
        "\n",
        "        return f\"{text}\\n{'*' * 50}\\n{''.join(result)}\"\n",
        "    except Exception as e:\n",
        "        return f\"{text}\\n{'*' * 50}\\nОшибка обработки текста: проверьте корректность входных данных\"\n"
      ],
      "metadata": {
        "id": "Uil0y6ErRwit"
      },
      "execution_count": null,
      "outputs": []
    },
    {
      "cell_type": "code",
      "source": [
        "\n",
        "# Вызов функции и вывод результата\n",
        "result = fix_brackets(invalid_text)\n",
        "print(result)\n",
        "\n"
      ],
      "metadata": {
        "colab": {
          "base_uri": "https://localhost:8080/"
        },
        "id": "1T3eF1NWR8kP",
        "outputId": "e8a23991-0dc6-40ac-9917-b21ea4471c75"
      },
      "execution_count": null,
      "outputs": [
        {
          "output_type": "stream",
          "name": "stdout",
          "text": [
            "\n",
            "def broken_code() {\n",
            "    array = [1, 2, (3 + 4], 5); \n",
            "    nested = {x: [y for y in range(2)} for x in (1, 2, 3)]  \n",
            "    print(\"Result: [(a + b) * {c - d}\")\n",
            "}\n",
            "\n",
            "# Неверный SQL запрос\n",
            "SELECT * FROM users WHERE id IN ((SELECT id FROM nested_table)\n",
            "\n",
            "**************************************************\n",
            "\n",
            "def broken_code() {\n",
            "    array = [1, 2, (3 + 4), 5]; \n",
            "    nested = {x: [y for y in range(2)) for x in (1, 2, 3))  \n",
            "    print(\"Result: [(a + b) * {c - d}\"}\n",
            ")\n",
            "\n",
            "# Неверный SQL запрос\n",
            "SELECT * FROM users WHERE id IN ((SELECT id FROM nested_table)\n",
            "))])]}})\n"
          ]
        }
      ]
    },
    {
      "cell_type": "markdown",
      "source": [
        "Задание 4 (4 балла)\n",
        "Генератор случайных паролей\n",
        "\n",
        "Напишите функцию, которая генерирует пароль заданной длины. В реализации надо учитывать, что:\n",
        "\n",
        "    Пароль должен содержать буквы, цифры и специальные символы.\n",
        "    Длина пароля задается пользователем.\n",
        "\n",
        "Критерии оценки:\n",
        "\n",
        "    Функция выполняет все заявленные условия — 4 балла.\n"
      ],
      "metadata": {
        "id": "4BM5dWJYWwwe"
      }
    },
    {
      "cell_type": "code",
      "source": [
        "\n",
        "\n",
        "def generate_password(length: int) -> str:\n",
        "    # Наборы символов для пароля\n",
        "    letters = string.ascii_letters\n",
        "    digits = string.digits\n",
        "    special = \"!@#$%^&*()_+-=[]{}|\"\n",
        "\n",
        "    # Обязательно берем по одному символу каждого типа\n",
        "    password = [\n",
        "        random.choice(letters),\n",
        "        random.choice(digits),\n",
        "        random.choice(special)\n",
        "    ]\n",
        "\n",
        "    # Добавляем остальные случайные символы\n",
        "    all_chars = letters + digits + special\n",
        "    password.extend(random.choice(all_chars) for _ in range(length - 3))\n",
        "\n",
        "    # Перемешиваем все символы\n",
        "    random.shuffle(password)\n",
        "\n",
        "    return ''.join(password)\n",
        "\n",
        "\n"
      ],
      "metadata": {
        "id": "BkVeGVcCW9QG"
      },
      "execution_count": null,
      "outputs": []
    },
    {
      "cell_type": "code",
      "source": [
        "# Примеры использования\n",
        "print(generate_password(8))\n",
        "print(generate_password(12))"
      ],
      "metadata": {
        "colab": {
          "base_uri": "https://localhost:8080/"
        },
        "id": "UePSD8QJXBx3",
        "outputId": "ef0f878f-5541-4d3a-aa6a-0129e70afd80"
      },
      "execution_count": null,
      "outputs": [
        {
          "output_type": "stream",
          "name": "stdout",
          "text": [
            "e6y+2h!6\n",
            "S^9R7CI!Nv!z\n"
          ]
        }
      ]
    },
    {
      "cell_type": "markdown",
      "source": [
        "Задание 5 (6 баллов)\n",
        "Эмуляция работы электронной очереди\n",
        "\n",
        "Напишите класс для симуляции работы электронной очереди, например, в банке.\n",
        "\n",
        "Критерии оценки:\n",
        "\n",
        "    Система должна поддерживать добавление клиентов с указанием их приоритета (например, VIP, обычный) — 1 балл.\n",
        "    Выбор клиента для следующей обработки должен учитывать приоритет — 1 балл.\n",
        "    Реализуйте отчет для администрации с информацией, сколько времени заняло обслуживание клиентов — 4 балла.\n"
      ],
      "metadata": {
        "id": "8t1tsTJsXcLB"
      }
    },
    {
      "cell_type": "code",
      "source": [
        "class Priority(Enum):\n",
        "    VIP = 1\n",
        "    REGULAR = 2\n",
        "\n",
        "@dataclass\n",
        "class Client:\n",
        "    ticket_number: int\n",
        "    priority: Priority\n",
        "    arrival_time: float = None\n",
        "    service_time: float = None\n",
        "    window_number: int = None\n",
        "    processing_time: float = None\n",
        "\n",
        "class BankQueue:\n",
        "    def __init__(self):\n",
        "        self.queue: List[Client] = []\n",
        "        self.served_clients: List[Client] = []\n",
        "        self.ticket_counter = 1\n",
        "        self.windows = {1: None, 2: None}\n",
        "        self.current_time = 0\n",
        "\n",
        "    def generate_processing_time(self) -> float:\n",
        "        return round(random.uniform(1.5, 15), 1)\n",
        "\n",
        "    def add_client(self, priority: Priority):\n",
        "        ticket = self.ticket_counter\n",
        "        self.ticket_counter += 1\n",
        "        client = Client(ticket, priority, arrival_time=self.current_time)\n",
        "        self.queue.append(client)\n",
        "        msg = \"VIP-талон\" if priority == Priority.VIP else \"Талон\"\n",
        "        print(f\"{msg} №{ticket} выдан\")\n",
        "\n",
        "    def process_queue(self):\n",
        "        while self.queue or any(self.windows.values()):\n",
        "            # Освобождаем окна, где клиенты завершили обслуживание\n",
        "            for window, client in list(self.windows.items()):\n",
        "                if client and self.current_time >= client.service_time + client.processing_time:\n",
        "                    print(f\"\\nПрошло {client.processing_time} минут\")\n",
        "                    print(f\"Окно {window} освободилось\")\n",
        "                    self.windows[window] = None\n",
        "\n",
        "            # Заполняем свободные окна\n",
        "            while self.queue and None in self.windows.values():\n",
        "                vip_clients = [c for c in self.queue if c.priority == Priority.VIP]\n",
        "                client = vip_clients[0] if vip_clients else self.queue[0]\n",
        "\n",
        "                free_window = next(w for w, c in self.windows.items() if c is None)\n",
        "                client.window_number = free_window\n",
        "                client.service_time = self.current_time\n",
        "                client.processing_time = self.generate_processing_time()\n",
        "\n",
        "                self.queue.remove(client)\n",
        "                self.windows[free_window] = client\n",
        "                self.served_clients.append(client)\n",
        "\n",
        "                msg = \"VIP-клиент\" if client.priority == Priority.VIP else \"Клиент\"\n",
        "                print(f\"\\n{msg} с талоном №{client.ticket_number} приглашается к окну {free_window}\")\n",
        "                print(f\"Расчетное время обслуживания: {client.processing_time} минут\")\n",
        "                print(f\"Окно {free_window} занято\")\n",
        "                print(\"-\" * 30)\n",
        "\n",
        "            self.current_time += 1"
      ],
      "metadata": {
        "id": "rEFkvbNIXano"
      },
      "execution_count": null,
      "outputs": []
    },
    {
      "cell_type": "code",
      "source": [
        "# Пример использования\n",
        "queue = BankQueue()\n",
        "\n",
        "print(\"\\n=== Выдача талонов ===\")\n",
        "queue.add_client(Priority.REGULAR)  # Талон 1\n",
        "queue.add_client(Priority.REGULAR)  # Талон 2\n",
        "queue.add_client(Priority.VIP)      # Талон 3\n",
        "queue.add_client(Priority.REGULAR)  # Талон 4\n",
        "\n",
        "print(\"\\n=== Обслуживание клиентов ===\")\n",
        "queue.process_queue()\n"
      ],
      "metadata": {
        "colab": {
          "base_uri": "https://localhost:8080/"
        },
        "id": "UXDyv13SXyIf",
        "outputId": "4b5b441b-537e-4a6e-fa8a-5610467c7a68"
      },
      "execution_count": null,
      "outputs": [
        {
          "output_type": "stream",
          "name": "stdout",
          "text": [
            "\n",
            "=== Выдача талонов ===\n",
            "Талон №1 выдан\n",
            "Талон №2 выдан\n",
            "VIP-талон №3 выдан\n",
            "Талон №4 выдан\n",
            "\n",
            "=== Обслуживание клиентов ===\n",
            "\n",
            "VIP-клиент с талоном №3 приглашается к окну 1\n",
            "Расчетное время обслуживания: 9.8 минут\n",
            "Окно 1 занято\n",
            "------------------------------\n",
            "\n",
            "Клиент с талоном №1 приглашается к окну 2\n",
            "Расчетное время обслуживания: 3.6 минут\n",
            "Окно 2 занято\n",
            "------------------------------\n",
            "\n",
            "Прошло 3.6 минут\n",
            "Окно 2 освободилось\n",
            "\n",
            "Клиент с талоном №2 приглашается к окну 2\n",
            "Расчетное время обслуживания: 3.5 минут\n",
            "Окно 2 занято\n",
            "------------------------------\n",
            "\n",
            "Прошло 3.5 минут\n",
            "Окно 2 освободилось\n",
            "\n",
            "Клиент с талоном №4 приглашается к окну 2\n",
            "Расчетное время обслуживания: 7.2 минут\n",
            "Окно 2 занято\n",
            "------------------------------\n",
            "\n",
            "Прошло 9.8 минут\n",
            "Окно 1 освободилось\n",
            "\n",
            "Прошло 7.2 минут\n",
            "Окно 2 освободилось\n"
          ]
        }
      ]
    },
    {
      "cell_type": "markdown",
      "source": [
        "Задание 6 (2 балла)\n",
        "Проверка на «почти палиндром»\n",
        "\n",
        "Напишите программу, которая проверяет, является ли строка палиндромом или «почти палиндромом». «Почти палиндром» означает, что можно удалить одну букву, чтобы строка стала палиндромом.\n",
        "\n",
        "Критерии оценки:\n",
        "\n",
        "    Функция выполняет все заявленные условия — 2 балла.\n"
      ],
      "metadata": {
        "id": "nd1u6qXVbhZ_"
      }
    },
    {
      "cell_type": "code",
      "source": [
        "def is_palindrome(s: str) -> bool:\n",
        "    return s == s[::-1]\n",
        "\n",
        "def is_near_palindrome(text: str) -> str:\n",
        "    # Убираем пробелы и приводим к нижнему регистру\n",
        "    text = ''.join(text.lower().split())\n",
        "\n",
        "    if is_palindrome(text):\n",
        "        return \"Это палиндром\"\n",
        "\n",
        "    # Проверяем каждую позицию, меняя по одной букве\n",
        "    for i in range(len(text)):\n",
        "        for c in 'абвгдеёжзийклмнопрстуфхцчшщъыьэюя':\n",
        "            # Создаем новую строку с измененной буквой\n",
        "            new_text = text[:i] + c + text[i+1:]\n",
        "            if is_palindrome(new_text):\n",
        "                return f\"Это почти палиндром (можно заменить букву '{text[i]}' на '{c}')\"\n",
        "\n",
        "    return \"Это не палиндром\"\n",
        "\n"
      ],
      "metadata": {
        "id": "j4AkF5Dobi5g"
      },
      "execution_count": null,
      "outputs": []
    },
    {
      "cell_type": "code",
      "source": [
        "# Проверка знаменитого палиндрома\n",
        "phrase = \"А роза упала на лапу Азора\"\n",
        "print(f\"Фраза '{phrase}': {is_near_palindrome(phrase)}\")"
      ],
      "metadata": {
        "colab": {
          "base_uri": "https://localhost:8080/"
        },
        "id": "KpWLBdnucQkv",
        "outputId": "ad84b5c4-0e32-4e5d-f7ac-61deac888a62"
      },
      "execution_count": null,
      "outputs": [
        {
          "output_type": "stream",
          "name": "stdout",
          "text": [
            "Фраза 'А роза упала на лапу Азора': Это палиндром\n"
          ]
        }
      ]
    },
    {
      "cell_type": "code",
      "source": [
        "# Проверкаменяем одну  букву\n",
        "phrase = \"А роза упала на лапу Азура\"\n",
        "print(f\"Фраза '{phrase}': {is_near_palindrome(phrase)}\")"
      ],
      "metadata": {
        "colab": {
          "base_uri": "https://localhost:8080/"
        },
        "id": "yw5_kd54cXVa",
        "outputId": "596792cc-7cc8-46ca-c9ea-55756ae70188"
      },
      "execution_count": null,
      "outputs": [
        {
          "output_type": "stream",
          "name": "stdout",
          "text": [
            "Фраза 'А роза упала на лапу Азура': Это почти палиндром (можно заменить букву 'о' на 'у')\n"
          ]
        }
      ]
    },
    {
      "cell_type": "code",
      "source": [
        "# Проверкаменяем две буквы\n",
        "phrase = \"А роза упала на лапу узура\"\n",
        "print(f\"Фраза '{phrase}': {is_near_palindrome(phrase)}\")"
      ],
      "metadata": {
        "colab": {
          "base_uri": "https://localhost:8080/"
        },
        "id": "ebJBOiCxc5oh",
        "outputId": "2a55aa0f-a710-448c-a0c5-35a310d49085"
      },
      "execution_count": null,
      "outputs": [
        {
          "output_type": "stream",
          "name": "stdout",
          "text": [
            "Фраза 'А роза упала на лапу узура': Это не палиндром\n"
          ]
        }
      ]
    },
    {
      "cell_type": "markdown",
      "source": [],
      "metadata": {
        "id": "P7G2daP8eS0C"
      }
    },
    {
      "cell_type": "code",
      "source": [
        "percent = 25\n",
        "\n",
        "text = \"\"\"Глава I\n",
        "\n",
        "Я появляюсь на свет\n",
        "\n",
        "Стану ли я героем повествования о своей собственной жизни,\n",
        "или это место займет кто-нибудь другой – должны показать\n",
        "последующие страницы. Начну рассказ о моей жизни с самого начала\n",
        "и скажу, что я родился в пятницу в двенадцать часов ночи\n",
        "(так мне сообщили, и я этому верю). Было отмечено, что мой\n",
        "первый крик совпал с первым ударом часов.\n",
        "\n",
        "Принимая во внимание день и час моего рождения, сиделка моей\n",
        "матери и кое-какие умудренные опытом соседки, питавшие живейший\n",
        "интерес ко мне за много месяцев до нашего личного знакомства,\n",
        "объявили, во-первых, что мне предопределено испытать в жизни\n",
        "несчастья и, во-вторых, что мне дана привилегия видеть привидения\n",
        "и духов; по их мнению, все злосчастные младенцы мужского и женского\n",
        "пола, родившиеся в пятницу около полуночи, неизбежно получают оба\n",
        "эти дара.\"\"\"\n",
        "\n"
      ],
      "metadata": {
        "id": "KeHfrppOeTR5"
      },
      "execution_count": null,
      "outputs": []
    },
    {
      "cell_type": "code",
      "source": [
        "\n",
        "\n",
        "def erase_text(text: str, percent: int) -> str:\n",
        "    words = text.split()\n",
        "    words_to_erase = int(len(words) * percent / 100)\n",
        "    indices_to_erase = random.sample(range(len(words)), words_to_erase)\n",
        "\n",
        "    for idx in indices_to_erase:\n",
        "        words[idx] = '...'\n",
        "\n",
        "    return ' '.join(words)\n",
        "\n",
        "def print_formatted(text: str, width: int = 10):\n",
        "    # Разбиваем текст на строки по 10 слов\n",
        "    words = text.split()\n",
        "    lines = []\n",
        "    for i in range(0, len(words), width):\n",
        "        lines.append(' '.join(words[i:i + width]))\n",
        "    return '\\n'.join(lines)\n",
        "\n",
        "\n",
        "\n",
        "\n",
        "result = erase_text(text, percent)\n",
        "\n",
        "print(\"Исходный текст:\")\n",
        "print(print_formatted(text))\n",
        "print(\"\\nРезультат (удалено {}%):\".format(percent))\n",
        "print(print_formatted(result))\n"
      ],
      "metadata": {
        "colab": {
          "base_uri": "https://localhost:8080/"
        },
        "id": "HDGCkUHxjbmt",
        "outputId": "ad2fa294-0bee-4166-869e-276786f73635"
      },
      "execution_count": null,
      "outputs": [
        {
          "output_type": "stream",
          "name": "stdout",
          "text": [
            "Исходный текст:\n",
            "Глава I Я появляюсь на свет Стану ли я героем\n",
            "повествования о своей собственной жизни, или это место займет кто-нибудь\n",
            "другой – должны показать последующие страницы. Начну рассказ о моей\n",
            "жизни с самого начала и скажу, что я родился в\n",
            "пятницу в двенадцать часов ночи (так мне сообщили, и я\n",
            "этому верю). Было отмечено, что мой первый крик совпал с\n",
            "первым ударом часов. Принимая во внимание день и час моего\n",
            "рождения, сиделка моей матери и кое-какие умудренные опытом соседки, питавшие\n",
            "живейший интерес ко мне за много месяцев до нашего личного\n",
            "знакомства, объявили, во-первых, что мне предопределено испытать в жизни несчастья\n",
            "и, во-вторых, что мне дана привилегия видеть привидения и духов;\n",
            "по их мнению, все злосчастные младенцы мужского и женского пола,\n",
            "родившиеся в пятницу около полуночи, неизбежно получают оба эти дара.\n",
            "\n",
            "Результат (удалено 25%):\n",
            "Глава I ... появляюсь на ... ... ... ... героем\n",
            "повествования о своей собственной жизни, ... ... место займет ...\n",
            "другой – должны показать последующие страницы. Начну ... о моей\n",
            "... с самого начала и ... что ... родился ...\n",
            "пятницу в двенадцать часов ночи ... мне сообщили, и ...\n",
            "... верю). ... ... что мой ... крик совпал ...\n",
            "первым ударом часов. ... во внимание день и час моего\n",
            "рождения, сиделка моей матери ... кое-какие умудренные опытом соседки, ...\n",
            "... ... ко мне за много месяцев до нашего личного\n",
            "... объявили, во-первых, что мне предопределено испытать ... жизни несчастья\n",
            "и, во-вторых, что мне ... привилегия ... привидения ... духов;\n",
            "по их мнению, все злосчастные младенцы мужского и женского пола,\n",
            "родившиеся в ... около полуночи, неизбежно получают ... эти дара.\n"
          ]
        }
      ]
    }
  ]
}