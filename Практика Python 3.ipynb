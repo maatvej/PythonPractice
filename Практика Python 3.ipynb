{
  "nbformat": 4,
  "nbformat_minor": 0,
  "metadata": {
    "colab": {
      "provenance": []
    },
    "kernelspec": {
      "name": "python3",
      "display_name": "Python 3"
    },
    "language_info": {
      "name": "python"
    }
  },
  "cells": [
    {
      "cell_type": "code",
      "execution_count": 1,
      "metadata": {
        "id": "MXXTuy_o0sjk",
        "outputId": "1f97ce98-e405-49ca-8a98-4647bf32b379",
        "colab": {
          "base_uri": "https://localhost:8080/"
        }
      },
      "outputs": [
        {
          "output_type": "stream",
          "name": "stdout",
          "text": [
            "  Preparing metadata (setup.py) ... \u001b[?25l\u001b[?25hdone\n",
            "\u001b[2K   \u001b[90m━━━━━━━━━━━━━━━━━━━━━━━━━━━━━━━━━━━━━━━━\u001b[0m \u001b[32m1.4/1.4 MB\u001b[0m \u001b[31m27.8 MB/s\u001b[0m eta \u001b[36m0:00:00\u001b[0m\n",
            "\u001b[2K   \u001b[90m━━━━━━━━━━━━━━━━━━━━━━━━━━━━━━━━━━━━━━━━\u001b[0m \u001b[32m953.8/953.8 kB\u001b[0m \u001b[31m34.6 MB/s\u001b[0m eta \u001b[36m0:00:00\u001b[0m\n",
            "\u001b[2K   \u001b[90m━━━━━━━━━━━━━━━━━━━━━━━━━━━━━━━━━━━━━━━━\u001b[0m \u001b[32m840.2/840.2 kB\u001b[0m \u001b[31m32.8 MB/s\u001b[0m eta \u001b[36m0:00:00\u001b[0m\n",
            "\u001b[2K   \u001b[90m━━━━━━━━━━━━━━━━━━━━━━━━━━━━━━━━━━━━━━━━\u001b[0m \u001b[32m178.7/178.7 kB\u001b[0m \u001b[31m11.0 MB/s\u001b[0m eta \u001b[36m0:00:00\u001b[0m\n",
            "\u001b[?25h  Building wheel for Chessnut (setup.py) ... \u001b[?25l\u001b[?25hdone\n"
          ]
        }
      ],
      "source": [
        "!pip install -q -U kaggle_environments"
      ]
    },
    {
      "cell_type": "code",
      "source": [
        "import random\n",
        "\n",
        "from kaggle_environments import make"
      ],
      "metadata": {
        "id": "yz23vWHD0wcj"
      },
      "execution_count": 5,
      "outputs": []
    },
    {
      "cell_type": "markdown",
      "source": [
        "Определим 13 различных стратегий для агентов:"
      ],
      "metadata": {
        "id": "miO4eRIfCUlv"
      }
    },
    {
      "cell_type": "code",
      "source": [
        "\n",
        "\n",
        "# Агент, который всегда выбирает камень\n",
        "def rock_agent(observation, configuration):\n",
        "    return 0\n",
        "\n",
        "# Агент, который всегда выбирает ножницы\n",
        "def scissors_agent(observation, configuration):\n",
        "    return 1\n",
        "\n",
        "# Агент, который всегда выбирает бумагу\n",
        "def paper_agent(observation, configuration):\n",
        "    return 2\n",
        "\n",
        "# Агент, который выбирает случайный ход\n",
        "def random_agent(observation, configuration):\n",
        "    return random.randint(0, 2)\n",
        "\n",
        "# Агент, который повторяет последний ход противника\n",
        "def copy_opponent_agent(observation, configuration):\n",
        "    if observation.step == 0:\n",
        "        return random.randint(0, 2)\n",
        "    else:\n",
        "        return observation.lastOpponentAction\n",
        "\n",
        "# Агент, который циклически выбирает камень, ножницы, бумагу\n",
        "def cycle_agent(observation, configuration):\n",
        "    return observation.step % 3\n",
        "\n",
        "# Агент, который выбирает ход, побеждающий последний ход противника\n",
        "def beat_last_agent(observation, configuration):\n",
        "    if observation.step == 0:\n",
        "        return random.randint(0, 2)\n",
        "    else:\n",
        "        return (observation.lastOpponentAction + 1) % 3\n",
        "\n",
        "# Агент, который выбирает ход, проигрывающий последний ход противника\n",
        "def lose_last_agent(observation, configuration):\n",
        "    if observation.step == 0:\n",
        "        return random.randint(0, 2)\n",
        "    else:\n",
        "        return (observation.lastOpponentAction + 2) % 3\n",
        "\n",
        "# Агент, который выбирает ход, который чаще всего побеждал\n",
        "def most_winning_agent(observation, configuration):\n",
        "    if observation.step == 0:\n",
        "        return random.randint(0, 2)\n",
        "    else:\n",
        "        actions = [0, 1, 2]\n",
        "        wins = [(observation.lastOpponentAction + 1) % 3,\n",
        "                observation.lastOpponentAction,\n",
        "                 (observation.lastOpponentAction + 2) % 3]\n",
        "        return wins[random.choice(actions)]\n",
        "\n",
        "# Агент, который выбирает ход, который чаще всего проигрывал\n",
        "def most_losing_agent(observation, configuration):\n",
        "    if observation.step == 0:\n",
        "        return random.randint(0, 2)\n",
        "    else:\n",
        "        actions = [0, 1, 2]\n",
        "        losses = [(observation.lastOpponentAction + 2) % 3,\n",
        "                  observation.lastOpponentAction,\n",
        "                   (observation.lastOpponentAction + 1) % 3]\n",
        "        return losses[random.choice(actions)]\n",
        "\n",
        "# Агент, который выбирает ход, который чаще всего ничья\n",
        "def most_drawing_agent(observation, configuration):\n",
        "    if observation.step == 0:\n",
        "        return random.randint(0, 2)\n",
        "    else:\n",
        "        return observation.lastOpponentAction\n",
        "\n",
        "# Агент, который выбирает случайный ход, но с предпочтением камня\n",
        "def biased_rock_agent(observation, configuration):\n",
        "    return random.choices([0, 1, 2], weights=[0.5, 0.25, 0.25])[0]\n",
        "\n",
        "# Агент, который выбирает случайный ход, но с предпочтением ножниц\n",
        "def biased_scissors_agent(observation, configuration):\n",
        "    return random.choices([0, 1, 2], weights=[0.25, 0.5, 0.25])[0]\n",
        "\n",
        "# Агент, который выбирает случайный ход, но с предпочтением бумаги\n",
        "def biased_paper_agent(observation, configuration):\n",
        "    return random.choices([0, 1, 2], weights=[0.25, 0.25, 0.5])[0]"
      ],
      "metadata": {
        "id": "jGmuuUDqA_7K"
      },
      "execution_count": 6,
      "outputs": []
    },
    {
      "cell_type": "markdown",
      "source": [
        "Запустим турнир между агентами:"
      ],
      "metadata": {
        "id": "7HCPHPcMBRru"
      }
    },
    {
      "cell_type": "code",
      "source": [
        "# Создаем окружение для игры\n",
        "env = make(\"rps\", configuration={\"episodeSteps\": 100})\n",
        "\n",
        "# Определяем список агентов\n",
        "agents = [rock_agent, scissors_agent, paper_agent, random_agent,\n",
        "          copy_opponent_agent, cycle_agent, beat_last_agent,\n",
        "          lose_last_agent, most_winning_agent, most_losing_agent,\n",
        "          most_drawing_agent, biased_rock_agent, biased_scissors_agent,\n",
        "          biased_paper_agent\n",
        "]\n",
        "\n",
        "# Инициализируем счетчик побед для каждого агента\n",
        "victories = {f\"Agent {i+1}\": 0 for i in range(len(agents))}\n",
        "\n",
        "# Запускаем турнир\n",
        "results = {}\n",
        "for i, agent1 in enumerate(agents):\n",
        "    for j, agent2 in enumerate(agents):\n",
        "        if i < j:\n",
        "            # Запускаем игру между двумя агентами\n",
        "            env.reset()\n",
        "            env.run([agent1, agent2])\n",
        "            outcome = env.state[0]['reward'] - env.state[1]['reward']\n",
        "            if outcome > 0:\n",
        "                winner = f\"Agent {i+1}\"\n",
        "                victories[winner] += 1\n",
        "            elif outcome < 0:\n",
        "                winner = f\"Agent {j+1}\"\n",
        "                victories[winner] += 1\n",
        "            else:\n",
        "                winner = \"Draw\"\n",
        "            results[f\"Agent {i+1} vs Agent {j+1}\"] = winner\n",
        "\n",
        "# Выводим результаты матчей\n",
        "for match, winner in results.items():\n",
        "    print(f\"{match}: {winner}\")\n",
        "\n",
        "# Определяем агента с наибольшим количеством побед\n",
        "best_agent = max(victories, key=victories.get)\n",
        "print(f\"\\nЛучший агент: {best_agent} с {victories[best_agent]} победами\")"
      ],
      "metadata": {
        "id": "rZ-cL7IvBSId",
        "outputId": "3f253fa2-573b-42cc-8b38-a88608aaec2d",
        "colab": {
          "base_uri": "https://localhost:8080/"
        }
      },
      "execution_count": 7,
      "outputs": [
        {
          "output_type": "stream",
          "name": "stdout",
          "text": [
            "Agent 1 vs Agent 2: Agent 2\n",
            "Agent 1 vs Agent 3: Agent 1\n",
            "Agent 1 vs Agent 4: Draw\n",
            "Agent 1 vs Agent 5: Draw\n",
            "Agent 1 vs Agent 6: Draw\n",
            "Agent 1 vs Agent 7: Agent 7\n",
            "Agent 1 vs Agent 8: Agent 1\n",
            "Agent 1 vs Agent 9: Draw\n",
            "Agent 1 vs Agent 10: Draw\n",
            "Agent 1 vs Agent 11: Draw\n",
            "Agent 1 vs Agent 12: Draw\n",
            "Agent 1 vs Agent 13: Agent 13\n",
            "Agent 1 vs Agent 14: Draw\n",
            "Agent 2 vs Agent 3: Agent 3\n",
            "Agent 2 vs Agent 4: Draw\n",
            "Agent 2 vs Agent 5: Draw\n",
            "Agent 2 vs Agent 6: Draw\n",
            "Agent 2 vs Agent 7: Agent 7\n",
            "Agent 2 vs Agent 8: Agent 2\n",
            "Agent 2 vs Agent 9: Draw\n",
            "Agent 2 vs Agent 10: Draw\n",
            "Agent 2 vs Agent 11: Draw\n",
            "Agent 2 vs Agent 12: Agent 2\n",
            "Agent 2 vs Agent 13: Draw\n",
            "Agent 2 vs Agent 14: Draw\n",
            "Agent 3 vs Agent 4: Draw\n",
            "Agent 3 vs Agent 5: Draw\n",
            "Agent 3 vs Agent 6: Draw\n",
            "Agent 3 vs Agent 7: Agent 7\n",
            "Agent 3 vs Agent 8: Agent 3\n",
            "Agent 3 vs Agent 9: Agent 3\n",
            "Agent 3 vs Agent 10: Draw\n",
            "Agent 3 vs Agent 11: Draw\n",
            "Agent 3 vs Agent 12: Agent 12\n",
            "Agent 3 vs Agent 13: Draw\n",
            "Agent 3 vs Agent 14: Draw\n",
            "Agent 4 vs Agent 5: Draw\n",
            "Agent 4 vs Agent 6: Draw\n",
            "Agent 4 vs Agent 7: Draw\n",
            "Agent 4 vs Agent 8: Draw\n",
            "Agent 4 vs Agent 9: Draw\n",
            "Agent 4 vs Agent 10: Draw\n",
            "Agent 4 vs Agent 11: Draw\n",
            "Agent 4 vs Agent 12: Draw\n",
            "Agent 4 vs Agent 13: Draw\n",
            "Agent 4 vs Agent 14: Draw\n",
            "Agent 5 vs Agent 6: Agent 6\n",
            "Agent 5 vs Agent 7: Agent 5\n",
            "Agent 5 vs Agent 8: Agent 5\n",
            "Agent 5 vs Agent 9: Draw\n",
            "Agent 5 vs Agent 10: Draw\n",
            "Agent 5 vs Agent 11: Draw\n",
            "Agent 5 vs Agent 12: Agent 5\n",
            "Agent 5 vs Agent 13: Draw\n",
            "Agent 5 vs Agent 14: Draw\n",
            "Agent 6 vs Agent 7: Draw\n",
            "Agent 6 vs Agent 8: Agent 8\n",
            "Agent 6 vs Agent 9: Draw\n",
            "Agent 6 vs Agent 10: Draw\n",
            "Agent 6 vs Agent 11: Agent 6\n",
            "Agent 6 vs Agent 12: Draw\n",
            "Agent 6 vs Agent 13: Draw\n",
            "Agent 6 vs Agent 14: Draw\n",
            "Agent 7 vs Agent 8: Agent 8\n",
            "Agent 7 vs Agent 9: Draw\n",
            "Agent 7 vs Agent 10: Draw\n",
            "Agent 7 vs Agent 11: Agent 11\n",
            "Agent 7 vs Agent 12: Draw\n",
            "Agent 7 vs Agent 13: Agent 7\n",
            "Agent 7 vs Agent 14: Draw\n",
            "Agent 8 vs Agent 9: Draw\n",
            "Agent 8 vs Agent 10: Draw\n",
            "Agent 8 vs Agent 11: Agent 11\n",
            "Agent 8 vs Agent 12: Draw\n",
            "Agent 8 vs Agent 13: Draw\n",
            "Agent 8 vs Agent 14: Draw\n",
            "Agent 9 vs Agent 10: Draw\n",
            "Agent 9 vs Agent 11: Draw\n",
            "Agent 9 vs Agent 12: Draw\n",
            "Agent 9 vs Agent 13: Draw\n",
            "Agent 9 vs Agent 14: Draw\n",
            "Agent 10 vs Agent 11: Draw\n",
            "Agent 10 vs Agent 12: Draw\n",
            "Agent 10 vs Agent 13: Draw\n",
            "Agent 10 vs Agent 14: Draw\n",
            "Agent 11 vs Agent 12: Draw\n",
            "Agent 11 vs Agent 13: Draw\n",
            "Agent 11 vs Agent 14: Draw\n",
            "Agent 12 vs Agent 13: Draw\n",
            "Agent 12 vs Agent 14: Draw\n",
            "Agent 13 vs Agent 14: Agent 14\n",
            "\n",
            "Лучший агент: Agent 7 с 4 победами\n"
          ]
        }
      ]
    },
    {
      "cell_type": "markdown",
      "source": [
        "Этот код создает 13 агентов с различными стратегиями и проводит турнир, определяя победителя в каждой паре."
      ],
      "metadata": {
        "id": "NGnTV7IuCMA9"
      }
    }
  ]
}